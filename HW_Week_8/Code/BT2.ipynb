{
 "cells": [
  {
   "cell_type": "code",
   "execution_count": 13,
   "metadata": {},
   "outputs": [],
   "source": [
    "import numpy as np\n",
    "\n",
    "# Chuẩn bị dữ liệu\n",
    "X_mean_sample = np.array([1, 2, 3]) # Giá trị trung bình của từng mẫu\n",
    "cov_matrix = np.array([[4, 1, 2], [1, 9, 3], [2, 3, 16]]) # Ma trận hiệp phương sai\n",
    "\n",
    "# Tính giá trị trung bình của toàn thể bộ dữ liệu\n",
    "w = np.ones(len(X_mean_sample))\n",
    "X_mean_total = X_mean_sample + np.dot(cov_matrix, w)"
   ]
  },
  {
   "cell_type": "code",
   "execution_count": null,
   "metadata": {},
   "outputs": [],
   "source": []
  }
 ],
 "metadata": {
  "kernelspec": {
   "display_name": "base",
   "language": "python",
   "name": "python3"
  },
  "language_info": {
   "codemirror_mode": {
    "name": "ipython",
    "version": 3
   },
   "file_extension": ".py",
   "mimetype": "text/x-python",
   "name": "python",
   "nbconvert_exporter": "python",
   "pygments_lexer": "ipython3",
   "version": "3.7.1"
  }
 },
 "nbformat": 4,
 "nbformat_minor": 2
}

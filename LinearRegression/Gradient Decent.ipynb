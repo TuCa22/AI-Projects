{
 "cells": [
  {
   "attachments": {},
   "cell_type": "markdown",
   "metadata": {},
   "source": [
    "# Gradient Decent\n",
    "Mục tiêu:  \n",
    "* Mô tả quá trình hoạt động của 3 thuật toán gần đúng Gradient Decent (chính là Batch Gradient Descent - GD), Stochasitic Gradient Decent (SGD), và Mini-batch Gradient Decent (MGD). Các thuật toán này là cơ sở của các thuật toán tối ưu hoá gần đúng sau này trong Deep Learning - AI"
   ]
  },
  {
   "attachments": {},
   "cell_type": "markdown",
   "metadata": {},
   "source": [
    "Nhắc lại lý thuyết:  \n",
    "Giả sử có hàm $J(w)$ là cost-function của một mô hình. Ta muốn tìm ra $w$ để $J(w)$ đạt cực tiểu.  \n",
    "Theo lý thuyết, $J(w)$ đạt cực trị khi $dJ/dw=0$ nếu $w$ là 1 biến 1 chiều và $\\nabla_{w}J = 0$ nều $w$ là biến nhiều chiều.  \n",
    "Trong phương pháp GD, ta tính gần đúng $w$ bằng:  \n",
    "$w^{(i+1)}:=w^{(i)}-\\alpha \\nabla_{w}J$  \n",
    "Vậy ta cần phải:  \n",
    "* Tạo giá trị đầu cho $w$  \n",
    "* Lựa chọn hyperparameter $\\alpha$  \n",
    "* Lựa chọn số lần lặp  \n",
    "* Tìm đạo hàm của hàm cost-function cần tối ưu  \n",
    "\n",
    "Trong ví dụ này, ta sẽ dùng phương pháp này tính gần đúng bộ thông số cho hàm hồi quy tuyến tính, có cost function là MSE"
   ]
  },
  {
   "attachments": {},
   "cell_type": "markdown",
   "metadata": {},
   "source": [
    "Bước 1: Nạp thư viện"
   ]
  },
  {
   "cell_type": "code",
   "execution_count": 1,
   "metadata": {},
   "outputs": [],
   "source": [
    "import numpy as np\n",
    "import matplotlib.pyplot as plt"
   ]
  },
  {
   "attachments": {},
   "cell_type": "markdown",
   "metadata": {},
   "source": [
    "Tạo 1 bộ dữ liệu ví dụ. Bộ dữ liệu này có dạng tuyến tính"
   ]
  },
  {
   "cell_type": "code",
   "execution_count": 2,
   "metadata": {},
   "outputs": [
    {
     "data": {
      "image/png": "[encoded data removed]",
      "text/plain": [
       "<Figure size 640x480 with 1 Axes>"
      ]
     },
     "metadata": {},
     "output_type": "display_data"
    }
   ],
   "source": [
    "np.random.seed(42)\n",
    "x = 2 * np.random.rand(100,1)\n",
    "y = 4 + 3 * x + np.random.randn(100,1)\n",
    "plt.plot(x,y,'.')\n",
    "plt.xlabel('x')\n",
    "plt.ylabel('y')\n",
    "plt.show()"
   ]
  },
  {
   "attachments": {},
   "cell_type": "markdown",
   "metadata": {},
   "source": [
    "## Dùng phương pháp giải tích như lý thuyết\n",
    "Hàm có dạng $y = w*x +b$ có thể được chuyển thành $y  = w*x$ nếu ta đổi x bằng [1, x] và đổi w bằng [w0, w]  \n",
    "Khi đó $w=(x^Tx)^{-1}xy$"
   ]
  },
  {
   "cell_type": "code",
   "execution_count": 3,
   "metadata": {},
   "outputs": [],
   "source": [
    "x1 = np.c_[np.ones((100,1)),x]"
   ]
  },
  {
   "cell_type": "code",
   "execution_count": 4,
   "metadata": {},
   "outputs": [
    {
     "data": {
      "text/plain": [
       "(100, 2)"
      ]
     },
     "execution_count": 4,
     "metadata": {},
     "output_type": "execute_result"
    }
   ],
   "source": [
    "x1.shape"
   ]
  },
  {
   "cell_type": "code",
   "execution_count": 5,
   "metadata": {},
   "outputs": [],
   "source": [
    "w_analytic = np.matmul (np.matmul( np.linalg.inv(np.matmul(x1.transpose(),x1)), x1.transpose()), y)"
   ]
  },
  {
   "cell_type": "code",
   "execution_count": 6,
   "metadata": {},
   "outputs": [
    {
     "data": {
      "text/plain": [
       "array([[4.21509616],\n",
       "       [2.77011339]])"
      ]
     },
     "execution_count": 6,
     "metadata": {},
     "output_type": "execute_result"
    }
   ],
   "source": [
    "# Giờ đây ta đã có b và w\n",
    "w_analytic"
   ]
  },
  {
   "attachments": {},
   "cell_type": "markdown",
   "metadata": {},
   "source": [
    "## Dùng hàm của Scikit Learn"
   ]
  },
  {
   "cell_type": "code",
   "execution_count": 7,
   "metadata": {},
   "outputs": [
    {
     "data": {
      "text/plain": [
       "(array([4.21509616]), array([[2.77011339]]))"
      ]
     },
     "execution_count": 7,
     "metadata": {},
     "output_type": "execute_result"
    }
   ],
   "source": [
    "from sklearn.linear_model import LinearRegression\n",
    "\n",
    "lin_reg = LinearRegression()\n",
    "lin_reg.fit(x, y)\n",
    "lin_reg.intercept_, lin_reg.coef_"
   ]
  },
  {
   "attachments": {},
   "cell_type": "markdown",
   "metadata": {},
   "source": [
    "Ta thấy rõ ràng kết quả giống nhau"
   ]
  },
  {
   "attachments": {},
   "cell_type": "markdown",
   "metadata": {},
   "source": [
    "## Thuật toán Gradient Descent"
   ]
  },
  {
   "cell_type": "code",
   "execution_count": 8,
   "metadata": {},
   "outputs": [],
   "source": [
    "alpha = 0.1 #Learning rate\n",
    "n_interation = 1000\n",
    "m = len(y)              #Tổng số phần tử\n",
    "\n",
    "w_gd = np.random.randn(2,1)    #tạo giá trị đầu\n",
    "w_gd_list = []\n",
    "\n",
    "for i in range(n_interation):\n",
    "    gradient = 2 / m * x1.transpose().dot(x1.dot(w_gd)-y)\n",
    "    w_gd = w_gd - alpha*gradient\n",
    "    w_gd_list.append(w_gd)"
   ]
  },
  {
   "cell_type": "code",
   "execution_count": 9,
   "metadata": {},
   "outputs": [
    {
     "data": {
      "text/plain": [
       "array([[4.21509616],\n",
       "       [2.77011339]])"
      ]
     },
     "execution_count": 9,
     "metadata": {},
     "output_type": "execute_result"
    }
   ],
   "source": [
    "w_gd"
   ]
  },
  {
   "attachments": {},
   "cell_type": "markdown",
   "metadata": {},
   "source": [
    "## Thuật toán Stochastic Gradient Descent"
   ]
  },
  {
   "cell_type": "code",
   "execution_count": 10,
   "metadata": {},
   "outputs": [],
   "source": [
    "w_sgd_list =[]\n",
    "m = len(y)\n",
    "t0, t1 = 5, 50\n",
    "\n",
    "np.random.seed(42)\n",
    "\n",
    "def learning_schedule(t):\n",
    "    return t0 / (t0 + t1)\n",
    "\n",
    "w = np.random.randn(2,1)\n",
    "\n",
    "n_epochs = 50\n",
    "for epoch in range(n_epochs):\n",
    "    for i in range(m):\n",
    "        random_index = np.random.randint(m)\n",
    "        xi = x1[random_index:random_index+1]\n",
    "        yi = y[random_index:random_index+1]\n",
    "        gradients = 2 * xi.T.dot(xi.dot(w) - yi)\n",
    "        alpha = 0.1 #learning_schedule(epoch * m + i)\n",
    "        w = w - alpha * gradients\n",
    "        w_sgd_list.append(w)  \n"
   ]
  },
  {
   "cell_type": "code",
   "execution_count": 11,
   "metadata": {},
   "outputs": [
    {
     "data": {
      "text/plain": [
       "array([[3.7625155],\n",
       "       [2.5892927]])"
      ]
     },
     "execution_count": 11,
     "metadata": {},
     "output_type": "execute_result"
    }
   ],
   "source": [
    "w"
   ]
  },
  {
   "attachments": {},
   "cell_type": "markdown",
   "metadata": {},
   "source": [
    "## Thuật toán Mini-batch gradient descent"
   ]
  },
  {
   "cell_type": "code",
   "execution_count": 12,
   "metadata": {},
   "outputs": [],
   "source": [
    "w_mgd_list = []\n",
    "\n",
    "batch_size = 20\n",
    "n_epochs = 100\n",
    "\n",
    "np.random.seed(42)\n",
    "w = np.random.randn(2,1)  # random initialization\n",
    "m = len(y)\n",
    "\n",
    "t0, t1 = 200, 1000\n",
    "def learning_schedule(t):\n",
    "    return t0 / (t + t1)\n",
    "\n",
    "t = 0\n",
    "for epoch in range(n_epochs):\n",
    "\n",
    "    shuffled_indices = np.random.permutation(m)\n",
    "    x1_shuffled = x1[shuffled_indices]\n",
    "    y_shuffled = y[shuffled_indices]\n",
    "    for i in range(0, m, batch_size):\n",
    "        t += 1\n",
    "        xi = x1_shuffled[i:i+batch_size]\n",
    "        yi = y_shuffled[i:i+batch_size]\n",
    "        gradients = 2/batch_size * xi.T.dot(xi.dot(w) - yi)\n",
    "        alpha = learning_schedule(t)\n",
    "        w = w - alpha * gradients\n",
    "        w_mgd_list.append(w)"
   ]
  },
  {
   "cell_type": "code",
   "execution_count": 13,
   "metadata": {},
   "outputs": [
    {
     "data": {
      "text/plain": [
       "array([[4.15421822],\n",
       "       [2.69721385]])"
      ]
     },
     "execution_count": 13,
     "metadata": {},
     "output_type": "execute_result"
    }
   ],
   "source": [
    "w"
   ]
  },
  {
   "attachments": {},
   "cell_type": "markdown",
   "metadata": {},
   "source": [
    "## Sự hội tụ"
   ]
  },
  {
   "cell_type": "code",
   "execution_count": 21,
   "metadata": {},
   "outputs": [],
   "source": [
    "w_sgd_list=np.array(w_sgd_list)\n",
    "w_mgd_list=np.array(w_mgd_list)\n",
    "w_gd_list=np.array(w_gd_list)"
   ]
  },
  {
   "cell_type": "code",
   "execution_count": 23,
   "metadata": {},
   "outputs": [
    {
     "data": {
      "image/png": "[encoded data removed]",
      "text/plain": [
       "<Figure size 700x400 with 1 Axes>"
      ]
     },
     "metadata": {},
     "output_type": "display_data"
    }
   ],
   "source": [
    "plt.figure(figsize=(7,4))\n",
    "plt.plot(w_sgd_list[:, 0], w_sgd_list[:, 1], \"r-s\", linewidth=1, label=\"Stochastic\")\n",
    "plt.plot(w_mgd_list[:, 0], w_mgd_list[:, 1], \"g-+\", linewidth=2, label=\"Mini-batch\")\n",
    "plt.plot(w_gd_list[:, 0], w_gd_list[:, 1], \"b-o\", linewidth=3, label=\"Batch\")\n",
    "plt.legend(loc=\"upper left\", fontsize=10)\n",
    "plt.xlabel(r\"$w_0$\", fontsize=10)\n",
    "plt.ylabel(r\"$w_1$   \", fontsize=10, rotation=0)\n",
    "plt.show()"
   ]
  },
  {
   "cell_type": "code",
   "execution_count": null,
   "metadata": {},
   "outputs": [],
   "source": []
  }
 ],
 "metadata": {
  "kernelspec": {
   "display_name": "base",
   "language": "python",
   "name": "python3"
  },
  "language_info": {
   "codemirror_mode": {
    "name": "ipython",
    "version": 3
   },
   "file_extension": ".py",
   "mimetype": "text/x-python",
   "name": "python",
   "nbconvert_exporter": "python",
   "pygments_lexer": "ipython3",
   "version": "3.9.12"
  },
  "orig_nbformat": 4
 },
 "nbformat": 4,
 "nbformat_minor": 2
}
